{
  "nbformat": 4,
  "nbformat_minor": 0,
  "metadata": {
    "colab": {
      "provenance": [],
      "toc_visible": true,
      "authorship_tag": "ABX9TyM8nPXWhWto1Nau/HVl7QsQ",
      "include_colab_link": true
    },
    "kernelspec": {
      "name": "python3",
      "display_name": "Python 3"
    },
    "language_info": {
      "name": "python"
    }
  },
  "cells": [
    {
      "cell_type": "markdown",
      "metadata": {
        "id": "view-in-github",
        "colab_type": "text"
      },
      "source": [
        "<a href=\"https://colab.research.google.com/github/amandapaura/LinearAlgebra/blob/main/Linear_Algebra_Examples.ipynb\" target=\"_parent\"><img src=\"https://colab.research.google.com/assets/colab-badge.svg\" alt=\"Open In Colab\"/></a>"
      ]
    },
    {
      "cell_type": "markdown",
      "source": [
        "# VECTORS\n",
        "Vectors are an important part of linear algebra. They are used in many machine learning models to help describe positions and directions in space. Vectors let us do math with points in 2D, 3D, or even higher dimensions.\n",
        "\n",
        "## What is a Vector\n",
        "A vector is a number that has both size and direction.\n",
        "\n",
        "* The size (called magnitude) tells us how far something goes (for example, \"2 miles\").\n",
        "* The direction tells us where it goes (for example, \"East\").\n",
        "\n",
        "You can think of a vector as an arrow that starts at one point and goes to another point in space.\n",
        "\n",
        "Let’s look at a simple example in 2D space.\n",
        "A point in 2D has an x value and a y value.\n",
        "\n",
        "Let’s say our point is at (2, 1). This means:\n",
        "\n",
        "* Move 2 units to the right (x = 2)\n",
        "* Move 1 unit up (y = 1)\n",
        "\n",
        "We call this vector v, and we can write it like this: **v**=(2,1), or, more formally, as a column matrix:\n",
        "\\begin{equation}\\vec{v} = \\begin{bmatrix}2 \\\\ 1 \\end{bmatrix}\\end{equation}\n",
        "\n",
        "So what exactly does that mean? Well, the coordinate is two-dimensional, and describes the movements required to get to the end point (of *head*) of the vector - in this case, we need to move 2 units in the *x* dimension, and 1 unit in the *y* dimension.\n",
        "\n",
        "Run the code in the following cell to visualize the vector **v** (which remember is described by the coordinate (2,1)).This vector tells us how to move from the starting point (usually the origin, (0,0)) to the end point (2,1).\n",
        "\n",
        "You can now run the code below to see what this vector looks like when it's drawn on a graph."
      ],
      "metadata": {
        "id": "21zppPlvmSK5"
      }
    },
    {
      "cell_type": "code",
      "execution_count": null,
      "metadata": {
        "colab": {
          "base_uri": "https://localhost:8080/",
          "height": 463
        },
        "id": "Sjho-PagLzb3",
        "outputId": "89157951-aa1f-4728-8d58-2116f7d4e1a3"
      },
      "outputs": [
        {
          "output_type": "display_data",
          "data": {
            "text/plain": [
              "<Figure size 640x480 with 1 Axes>"
            ],
            "image/png": "[encoded data removed]"
          },
          "metadata": {}
        }
      ],
      "source": [
        "%matplotlib inline\n",
        "\n",
        "import numpy as np\n",
        "import matplotlib.pyplot as plt\n",
        "\n",
        "# We'll use a numpy array for our vector\n",
        "v = np.array([2,1])\n",
        "\n",
        "# and we'll use a quiver plot to visualize it.\n",
        "origin = [0], [0]\n",
        "plt.axis('equal')\n",
        "plt.grid()\n",
        "plt.ticklabel_format(style='sci', axis='both', scilimits=(0,0))\n",
        "plt.quiver(*origin, *v, scale=10, color='r')\n",
        "plt.show()\n"
      ]
    },
    {
      "cell_type": "markdown",
      "source": [
        "# MATRICES\n",
        "A matrix is a group of numbers arranged in rows and columns like a table.\n",
        "\n",
        "\n",
        "## What is a Matrix?\n",
        "A matrix is like a box or grid of numbers. For example, here is a matrix named A:\n",
        "\n",
        "\\begin{equation}A = \\begin{bmatrix}\n",
        "  1 & 2 & 3 \\\\\n",
        "  4 & 5 & 6\n",
        " \\end{bmatrix}\n",
        "\\end{equation}\n",
        "\n",
        "This matrix has:\n",
        "\n",
        "* 2 rows\n",
        "* 3 columns\n",
        "\n",
        "We usually name matrices with capital letters like A.\n",
        "\n",
        "To talk about the individual numbers (called elements) in the matrix, we use small letters with numbers that show the row and column. For example:\n",
        "\n",
        "* 𝒂 ᵢ , ⱼ means the number in row ⅈ, column 𝑗, where i, j  = 1, 2, 3 etc\n",
        "\n",
        "So the matrix can also be written like this:\n",
        "\n",
        "\n",
        "\\begin{equation}A = \\begin{bmatrix}\n",
        "  a_{1,1} & a_{1,2} & a_{1,3} \\\\\n",
        "  a_{2,1} & a_{2,2} & a_{2,3}\n",
        " \\end{bmatrix}\n",
        "\\end{equation}\n",
        "\n",
        "## Matrices in Python\n",
        "In Python, we can create a matrix using a NumPy array. A NumPy array is a special data structure that helps us work with numbers easily. We define a matrix as a 2-dimensional array like this:"
      ],
      "metadata": {
        "id": "dnXd9jyNm0sF"
      }
    },
    {
      "cell_type": "code",
      "source": [
        "import numpy as np\n",
        "\n",
        "A = np.array([[1,2,3],\n",
        "              [4,5,6]])\n",
        "print(A)"
      ],
      "metadata": {
        "colab": {
          "base_uri": "https://localhost:8080/"
        },
        "id": "kpcllGIBmxir",
        "outputId": "b62aaf76-76c1-4961-cd50-32874e60b27c"
      },
      "execution_count": null,
      "outputs": [
        {
          "output_type": "stream",
          "name": "stdout",
          "text": [
            "[[1 2 3]\n",
            " [4 5 6]]\n"
          ]
        }
      ]
    },
    {
      "cell_type": "markdown",
      "source": [
        "# BASIC OPERATIONS\n",
        "\n",
        "1.   Vector Magnitude\n",
        "2.   Addition\n",
        "3.   Multiplication\n",
        "4.   Identity and Inverse Matrix"
      ],
      "metadata": {
        "id": "wmF2Fjy1ucM2"
      }
    },
    {
      "cell_type": "markdown",
      "source": [
        "# Calculating Vector Magnitude\n",
        "We usually write vectors using Cartesian coordinates, that means using numbers like x and y to show how far to move in each direction.\n",
        "\n",
        "For example, the vector v = (2, 1) tells us to:\n",
        "* Move 2 units along the x-axis\n",
        "* Move 1 unit along the y-axis\n",
        "\n",
        "But we can also think about vectors in another way: using polar coordinates.\n",
        "\n",
        "In this case:\n",
        "* The magnitude tells us how long the vector is (like the distance)\n",
        "* The direction tells us which angle the vector is pointing\n",
        "\n",
        "## How to Calculate Magnitude\n",
        "To find the magnitude of a vector, we use the Pythagorean theorem (just like with right-angle triangles).\n",
        "\n",
        "If we have a vector like v = (2, 1), we imagine a triangle with sides of 2 and 1 units.\n",
        "The magnitude is the length of the diagonal (the hypotenuse).\n",
        "\n",
        "We write it like this:\n",
        "\n",
        "\\begin{equation}\\|\\vec{v}\\| = \\sqrt{v_{i}\\;^{2} + v_{j}\\;^{2}}\\end{equation}\n",
        "\n",
        "In our case:\n",
        "\n",
        "* 𝑣ᵢ = 2\n",
        "* 𝑣ⱼ = 1\n",
        "\n",
        "So:\n",
        "\n",
        "\\begin{equation}\\|\\vec{v}\\| = \\sqrt{2 \\;^{2} + 1\\;^{2}} = \\sqrt{4 + 1} = \\sqrt{5} ≈ 2.24 \\end{equation}\n",
        "\n",
        "\n",
        "OBS: We use double vertical bars (||v||) to show the magnitude of the vector. This helps avoid confusion with absolute value, which uses single bars (|v|).\n",
        "\n",
        "## In Python\n",
        "You can calculate the magnitude using NumPy like this:"
      ],
      "metadata": {
        "id": "3E2JGrMZxTW6"
      }
    },
    {
      "cell_type": "code",
      "source": [
        "import numpy as np\n",
        "\n",
        "v = np.array([2, 1])\n",
        "magnitude = np.linalg.norm(v)\n",
        "print(magnitude)"
      ],
      "metadata": {
        "colab": {
          "base_uri": "https://localhost:8080/"
        },
        "id": "ljPudoj5mQRF",
        "outputId": "5b915090-a102-4408-a899-24dd37e21347"
      },
      "execution_count": null,
      "outputs": [
        {
          "output_type": "stream",
          "name": "stdout",
          "text": [
            "2.23606797749979\n"
          ]
        }
      ]
    },
    {
      "cell_type": "markdown",
      "source": [
        "# Addition\n",
        "\n"
      ],
      "metadata": {
        "id": "bscr-WSd9B8d"
      }
    },
    {
      "cell_type": "markdown",
      "source": [
        "## Vector Addition\n",
        "\n",
        "So far, we’ve only worked with one vector at a time. But what if you want to add two vectors together?\n",
        "\n",
        "Let’s look at an example.\n",
        "\n",
        "We already have a vector **v**, which is:\n",
        "\n",
        "\\begin{equation}\\vec{v} = \\begin{bmatrix}1 \\\\ 3 \\end{bmatrix}\\end{equation}\n",
        "Now let’s create another vector, called **s**:\n",
        "\\begin{equation}\\vec{s} = \\begin{bmatrix}-1 \\\\ 2 \\end{bmatrix}\\end{equation}\n",
        "\n",
        "This means:\n",
        "\n",
        "* Move 1 units to the left (because of the -1 on x)\n",
        "* Move 2 units up\n",
        "\n",
        "We can now add these two vectors together.\n",
        "\n",
        "To add vectors, we just add each component (x with x, y with y):\n",
        "\n",
        "\\begin{equation}\\vec{v} + \\vec{s} = \\begin{bmatrix}1 \\\\ 3 \\end{bmatrix} + \\begin{bmatrix} -1 \\\\ 2 \\end{bmatrix} = \\begin{bmatrix} 0 \\\\ 5 \\end{bmatrix}\\end{equation}\n",
        "\n",
        "So the new vector goes:\n",
        "\n",
        "* 0, in the origin\n",
        "* 5 units up\n",
        "\n",
        "\n",
        "### In Python\n",
        "You can create the new vector and plot all of them using this code:\n"
      ],
      "metadata": {
        "id": "s7I6Gj7hzVDD"
      }
    },
    {
      "cell_type": "code",
      "source": [
        "import numpy as np\n",
        "import matplotlib.pyplot as plt\n",
        "\n",
        "# Define the vectors\n",
        "v = np.array([1, 3])\n",
        "s = np.array([-1, 2])\n",
        "result = v + s\n",
        "\n",
        "print(result)"
      ],
      "metadata": {
        "colab": {
          "base_uri": "https://localhost:8080/"
        },
        "id": "0Gmbuy52VLBe",
        "outputId": "56f5257e-a412-4b7d-e28c-c3f087e12337"
      },
      "execution_count": null,
      "outputs": [
        {
          "output_type": "stream",
          "name": "stdout",
          "text": [
            "[0 5]\n"
          ]
        }
      ]
    },
    {
      "cell_type": "code",
      "source": [
        "\n",
        "\n",
        "# Plot the vectors\n",
        "plt.figure()\n",
        "plt.quiver(0, 0, v[0], v[1], angles='xy', scale_units='xy', scale=1, color='blue', label='v')\n",
        "plt.quiver(0, 0, s[0], s[1], angles='xy', scale_units='xy', scale=1, color='green', label='s')\n",
        "plt.quiver(0, 0, result[0], result[1], angles='xy', scale_units='xy', scale=1, color='red', label='v + s')\n",
        "\n",
        "plt.xlim(-5, 5)\n",
        "plt.ylim(-1, 5)\n",
        "plt.grid()\n",
        "plt.legend()\n",
        "plt.gca().set_aspect('equal')\n",
        "plt.show()\n"
      ],
      "metadata": {
        "colab": {
          "base_uri": "https://localhost:8080/",
          "height": 363
        },
        "id": "s0NTkE_Zwxzd",
        "outputId": "91c17ac4-b462-424d-e84e-eb7e47d848b6"
      },
      "execution_count": null,
      "outputs": [
        {
          "output_type": "display_data",
          "data": {
            "text/plain": [
              "<Figure size 640x480 with 1 Axes>"
            ],
            "image/png": "[encoded data removed]"
          },
          "metadata": {}
        }
      ]
    },
    {
      "cell_type": "markdown",
      "source": [
        "## Adding Matrices\n",
        "\n",
        "To add two matrices, they must be the same size (same number of rows and columns). Then you just add each element in the same position.\n",
        "\n",
        "Let’s add these two matrices:\n",
        "\n",
        "\\begin{equation} \\begin{bmatrix} 1\\ 2 \\ 0 \\\\ 3 \\ 2 \\ 1  \\end{bmatrix} + \\begin{bmatrix} 1\\ 0 \\ 3 \\\\ 2 \\ 1 \\ 3  \\end{bmatrix} = \\begin{bmatrix} 2 \\ 2 \\ 3 \\\\ 5 \\ 3 \\ 4  \\end{bmatrix}\\end{equation}\n",
        "\n",
        "We add the numbers in the same positions:\n",
        "\n",
        "* 1 + 6 = 7\n",
        "* 4 + 3 = 7\n",
        "* 2 + 5 = 7\n",
        "* and so on…\n",
        "\n",
        "These matrices are both 2 rows × 3 columns (we call this 2x3).\n",
        "\n",
        "The result is also a 2x3 matrix, where each number is the sum of the numbers in the same spot.\n",
        "\n",
        "### In Python\n",
        "You can do this using NumPy:\n"
      ],
      "metadata": {
        "id": "KHjP-W24GOb1"
      }
    },
    {
      "cell_type": "code",
      "source": [
        "import numpy as np\n",
        "\n",
        "A = np.array([[1, 2, 0],\n",
        "              [3, 2, 1]])\n",
        "\n",
        "B = np.array([[1, 0, 3],\n",
        "              [2, 1, 3]])\n",
        "\n",
        "C = A + B\n",
        "print(C)\n"
      ],
      "metadata": {
        "colab": {
          "base_uri": "https://localhost:8080/"
        },
        "id": "ZWabdEi4GTzU",
        "outputId": "f03918f0-349f-4e4b-9521-09fe7cd7d772"
      },
      "execution_count": null,
      "outputs": [
        {
          "output_type": "stream",
          "name": "stdout",
          "text": [
            "[[2 2 3]\n",
            " [5 3 4]]\n"
          ]
        }
      ]
    },
    {
      "cell_type": "markdown",
      "source": [
        "# Multiplication\n",
        "\n",
        "There are three main ways to multiply vectors and matrices:\n",
        "\n",
        "* Scalar Multiplication (multiplying by a number)\n",
        "* Dot Product\n",
        "* Cross Product\n",
        "\n",
        "Let’s start with the **scalar multiplication**."
      ],
      "metadata": {
        "id": "OlyVpLuLBj4U"
      }
    },
    {
      "cell_type": "markdown",
      "source": [
        "## Scalar Multiplication\n"
      ],
      "metadata": {
        "id": "Fl2lvsFlCALV"
      }
    },
    {
      "cell_type": "markdown",
      "source": [
        "### Vectors\n",
        "Scalar multiplication means multiplying a vector by a single number (called a scalar).\n",
        "\n",
        "For example, let’s take the vector:\n",
        "\n",
        "\n",
        "\\begin{equation}\\vec{v} = \\begin{bmatrix}2 \\\\ 3 \\end{bmatrix}\\end{equation}\n",
        "\n",
        "Now let’s multiply it by 2. We write this:\n",
        "\n",
        "\\begin{equation}\\vec{w} = 2\\vec{v}\\end{equation}\n",
        "\n",
        "To do this, we just multiply **each part of the vector** by 2:\n",
        "\n",
        "\\begin{equation}\\vec{w} = \\begin{bmatrix}2 · 2\\\\ 2 · 3\\end{bmatrix} = \\begin{bmatrix} 4 \\\\ 6 \\end{bmatrix}\\end{equation}\n",
        "\n",
        "So the new vector w has the same direction as **v**, but it is **twice as long**.\n",
        "\n",
        "### In Python\n",
        "You can do this easily using NumPy:"
      ],
      "metadata": {
        "id": "KHtSN_CmzcmG"
      }
    },
    {
      "cell_type": "code",
      "source": [
        "import numpy as np\n",
        "\n",
        "v = np.array([2, 3])\n",
        "w = 2 * v\n",
        "print(w)\n"
      ],
      "metadata": {
        "colab": {
          "base_uri": "https://localhost:8080/"
        },
        "id": "dTl9AswqBiuV",
        "outputId": "66906425-e857-45f0-d2c7-3ddefc2d8fd8"
      },
      "execution_count": null,
      "outputs": [
        {
          "output_type": "stream",
          "name": "stdout",
          "text": [
            "[4 6]\n"
          ]
        }
      ]
    },
    {
      "cell_type": "code",
      "source": [
        "import numpy as np\n",
        "import matplotlib.pyplot as plt\n",
        "\n",
        "# Original vector\n",
        "v = np.array([2, 3])\n",
        "\n",
        "# Scaled vector (2 times longer)\n",
        "w = 2 * v\n",
        "\n",
        "# Plot\n",
        "plt.figure()\n",
        "plt.quiver(0, 0, w[0], w[1], angles='xy', scale_units='xy', scale=1, color='red', label='2v')\n",
        "plt.quiver(0, 0, v[0], v[1], angles='xy', scale_units='xy', scale=1, color='blue', label='v')\n",
        "\n",
        "# Set plot limits\n",
        "plt.xlim(0, 5)\n",
        "plt.ylim(0, 7)\n",
        "\n",
        "# Add grid and legend\n",
        "plt.grid()\n",
        "plt.legend()\n",
        "plt.gca().set_aspect('equal')\n",
        "plt.title('Original Vector v and Scaled Vector 2v')\n",
        "plt.show()\n",
        "\n"
      ],
      "metadata": {
        "colab": {
          "base_uri": "https://localhost:8080/",
          "height": 452
        },
        "id": "jIoNC7Wm-m9K",
        "outputId": "3f09118b-bd65-43ee-f548-d206bbb69a69"
      },
      "execution_count": null,
      "outputs": [
        {
          "output_type": "display_data",
          "data": {
            "text/plain": [
              "<Figure size 640x480 with 1 Axes>"
            ],
            "image/png": "[encoded data removed]"
          },
          "metadata": {}
        }
      ]
    },
    {
      "cell_type": "markdown",
      "source": [
        "### Matrices\n",
        "\n",
        "To multiply a matrix by a scalar value, you just multiply each element by the scalar:\n",
        "\n",
        "\\begin{equation}2 \\times \\begin{bmatrix}1 & 2 & 3 \\\\4 & 5 & 6\\end{bmatrix} = \\begin{bmatrix}2 & 4 & 6 \\\\8 & 10 & 12\\end{bmatrix}\\end{equation}\n",
        "\n",
        "### In Python"
      ],
      "metadata": {
        "id": "ubxKIbe53I2Z"
      }
    },
    {
      "cell_type": "code",
      "execution_count": null,
      "metadata": {
        "collapsed": true,
        "id": "r2_4E_GsSuWc",
        "colab": {
          "base_uri": "https://localhost:8080/"
        },
        "outputId": "45b5044d-e45c-4d21-ac5e-b69721eba986"
      },
      "outputs": [
        {
          "output_type": "stream",
          "name": "stdout",
          "text": [
            "[[ 2  4  6]\n",
            " [ 8 10 12]]\n"
          ]
        }
      ],
      "source": [
        "import numpy as np\n",
        "\n",
        "A = np.array([[1,2,3],\n",
        "              [4,5,6]])\n",
        "print(2 * A)"
      ]
    },
    {
      "cell_type": "markdown",
      "source": [
        "\n",
        "# Identity Matrix and Inverse\n",
        "An identity matrix (usually written as I) is like the number 1, but for matrices.\n",
        "\n",
        "It’s always a square matrix (same number of rows and columns), with:\n",
        "* 1s on the diagonal\n",
        "* 0s everywhere else\n",
        "\n",
        "\n",
        "## Example: 3×3 Identity Matrix\n",
        "\n",
        "\\begin{equation} I =  \\begin{bmatrix} 1 \\ \\ \\ 0 \\ \\ \\ 0 \\\\ 0 \\ \\ \\ 1 \\ \\ \\ 0 \\\\ 0 \\ \\ \\ 0 \\ \\ \\ 1 \\end{bmatrix} \\end{equation}\n",
        "\n",
        "This matrix doesn’t change anything when you multiply it — just like how multiplying a number by 1 doesn’t change the number.\n",
        "\n",
        "## Example of Identity Matrix Multiplication\n",
        "If we multiply another 3×3 matrix by the identity matrix:\n",
        "\n",
        "\\begin{equation} \\begin{bmatrix} 1 \\ \\ \\ 2 \\ \\ \\ 3 \\\\ 4 \\ \\ \\ 5 \\ \\ \\ 6 \\\\ 7 \\ \\ \\ 8 \\ \\ \\ 1 \\end{bmatrix} · \\begin{bmatrix} 1 \\ \\ \\ 0 \\ \\ \\ 0 \\\\ 0 \\ \\ \\ 1 \\ \\ \\ 0 \\\\ 0 \\ \\ \\ 0 \\ \\ \\ 9 \\end{bmatrix} =  \\begin{bmatrix} 1 \\ \\ \\ 2 \\ \\ \\ 3 \\\\ 4 \\ \\ \\ 5 \\ \\ \\ 6 \\\\ 7 \\ \\ \\ 8 \\ \\ \\ 9 \\end{bmatrix} \\end{equation}\n",
        "\n",
        "As you can see, the result is the **same matrix**.\n",
        "\n",
        "## In Python\n",
        "You can try it yourself:"
      ],
      "metadata": {
        "id": "qIjNLLSH18Aq"
      }
    },
    {
      "cell_type": "markdown",
      "source": [
        "# DOT PRODUCT"
      ],
      "metadata": {
        "id": "tIo_9z7p4gHt"
      }
    },
    {
      "cell_type": "markdown",
      "source": [
        "## Vectors\n",
        "\n",
        "Before, we saw how to multiply a vector by a number (a scalar).\n",
        "Now let’s see how to multiply two vectors together.\n",
        "\n",
        "There are two main ways to do this:\n",
        "* Dot product – the result is a number (scalar)\n",
        "* Cross product – the result is a vector\n",
        "\n",
        "Let’s look at the dot product first.\n",
        "\n",
        "### What is the Dot Product?\n",
        "With vectors, the dot product multiplies two vectors and gives a single number.\n",
        "\n",
        "To do this, you:\n",
        "* Multiply the numbers in the same positions of both vectors\n",
        "* Then add all those results\n",
        "\n",
        "We use a dot (•) to show this type of multiplication.\n",
        "\n",
        "If:\n",
        "\n",
        "\\begin{equation} \\vec{v} = \\begin{bmatrix} 2 \\\\ 1 \\end{bmatrix}, \\vec{s} = \\begin{bmatrix} -1 \\\\ 3 \\end{bmatrix} \\end{equation}\n",
        "\n",
        "Then the dot product is:\n",
        "\n",
        "\\begin{equation} \\vec{v} · \\vec{s} = (2 · -1) + (1 · 3)  = -2 + 3 = 1 \\end{equation}\n",
        "\n",
        "So, the dot product of v and s is 1."
      ],
      "metadata": {
        "id": "S8_ghisvzlQG"
      }
    },
    {
      "cell_type": "code",
      "source": [
        "import numpy as np\n",
        "\n",
        "v = np.array([2, 1])\n",
        "s = np.array([-1, 3])\n",
        "\n",
        "dot_product = np.dot(v, s)\n",
        "print(dot_product)\n",
        "\n",
        "# python 3.5 and later, you can do it:\n",
        "\n",
        "d = v @ s\n",
        "print (d)"
      ],
      "metadata": {
        "colab": {
          "base_uri": "https://localhost:8080/"
        },
        "id": "V-GsRMah3LaP",
        "outputId": "1d0f41b8-c1db-42cc-eca5-021c97adb718"
      },
      "execution_count": null,
      "outputs": [
        {
          "output_type": "stream",
          "name": "stdout",
          "text": [
            "1\n",
            "1\n"
          ]
        }
      ]
    },
    {
      "cell_type": "markdown",
      "source": [
        "## Matrices\n",
        "\n",
        "When you multiply two matrices, you don’t just multiply each element, instead, you use the dot product between rows and columns.\n",
        "\n",
        "This only works if:\n",
        "* The number of columns in the first matrix = number of rows in the second matrix\n",
        "* This is called being conformable for multiplication.\n",
        "\n",
        "Let’s multiply:\n",
        "\n",
        "\\begin{equation}A \\ 𝗑 \\ B \\end{equation}\n",
        "\n",
        "where \\begin{equation}\\ \\ A = \\begin{bmatrix} 1 \\ 0 \\ 2 \\\\ 3 \\ 1  \\ 0  \\end{bmatrix} and  \\ B = \\begin{bmatrix} 1 \\ 0 \\\\ 2 \\ 3 \\\\ 1  \\ 0  \\end{bmatrix}  \\end{equation}\n",
        "\n",
        "To calculate the result, we:\n",
        "* Multiply row from A by column from B\n",
        "* Multiply each pair, then add them up\n",
        "\n",
        "First row of A × first column of B:\n",
        "\\begin{equation} (1×1)+(0×2)+(2×1)=1+0+2=3 \\end{equation}\n",
        "\n",
        "First row of A × second column of B:\n",
        "\\begin{equation} (1×0)+(0×3)+(2×0)=0+0+0=0 \\end{equation}\n",
        "\n",
        "Second row of A × first column of B:\n",
        "\\begin{equation} (3×1)+(1×2)+(0×1)=3+2+0=5 \\end{equation}\n",
        "\n",
        "Second row of A × second column of B:\n",
        "\\begin{equation} (3×0)+(1×3)+(0×0)=0+3+0=3 \\end{equation}\n",
        "\n",
        "Final Result:\n",
        "\n",
        "\n",
        "\\begin{equation}\\ \\ A = \\begin{bmatrix} 3 \\ 0 \\\\ 5 \\ 3 \\end{bmatrix} \\end{equation}"
      ],
      "metadata": {
        "id": "dBJO2CUH8Rp9"
      }
    },
    {
      "cell_type": "code",
      "source": [
        "import numpy as np\n",
        "\n",
        "A = np.array([[1,0,2],\n",
        "              [3,1,0]])\n",
        "B = np.array([[1,0],\n",
        "              [2,3],\n",
        "              [1,0]])\n",
        "\n",
        "print(A @ B) # or print(np.dot(A,B))"
      ],
      "metadata": {
        "colab": {
          "base_uri": "https://localhost:8080/"
        },
        "id": "Mt5vl-Qk7JHc",
        "outputId": "fe8eb25f-cd82-40d4-f000-da5537160b1e"
      },
      "execution_count": null,
      "outputs": [
        {
          "output_type": "stream",
          "name": "stdout",
          "text": [
            "[[3 0]\n",
            " [5 3]]\n"
          ]
        }
      ]
    },
    {
      "cell_type": "markdown",
      "source": [
        "## Atention\n",
        "\n",
        "Matrix Multiplication Is Not Commutative\n",
        "When you multiply regular numbers, the order doesn’t matter:\n",
        "\n",
        "\\begin{equation} 2×4=4×2 \\end{equation}\n",
        "\n",
        "This is called the commutative property.\n",
        "\n",
        "### **But with matrices, the order does matter!!**\n",
        "\n",
        "Swapping them usually gives a different result, or sometimes doesn't work at all.\n",
        "\n",
        "### Example\n",
        "\n",
        "Let’s try multiplying these two matrices:\n",
        "\n",
        "\\begin{equation} A = \\begin{bmatrix} 2 \\ 3 \\\\ 4 \\ 2\\end{bmatrix} , B = \\begin{bmatrix} 1 \\ 5 \\\\ 7 \\ 3 \\end{bmatrix} \\end{equation}\n",
        "In matrix multiplication:\n",
        "\n",
        "Even though both are 2x2 matrices, the result is usually not the same.\n",
        "\n"
      ],
      "metadata": {
        "id": "QuvNdG-aF_Cg"
      }
    },
    {
      "cell_type": "code",
      "source": [
        "import numpy as np\n",
        "\n",
        "A = np.array([[2, 3],\n",
        "              [4, 2]])\n",
        "\n",
        "B = np.array([[1, 5],\n",
        "              [7, 3]])\n",
        "\n",
        "AB = A @ B\n",
        "BA = B @ A\n",
        "\n",
        "print(\"A @ B =\")\n",
        "print(AB)\n",
        "\n",
        "print(\"\\nB @ A =\")\n",
        "print(BA)\n"
      ],
      "metadata": {
        "colab": {
          "base_uri": "https://localhost:8080/"
        },
        "id": "JDVoPyjqF8Lg",
        "outputId": "cd3a2adc-3add-4c2e-d071-0018189ec6c9"
      },
      "execution_count": null,
      "outputs": [
        {
          "output_type": "stream",
          "name": "stdout",
          "text": [
            "A @ B =\n",
            "[[23 19]\n",
            " [18 26]]\n",
            "\n",
            "B @ A =\n",
            "[[22 13]\n",
            " [26 27]]\n"
          ]
        }
      ]
    },
    {
      "cell_type": "markdown",
      "source": [
        "\n"
      ],
      "metadata": {
        "id": "fA0SZxS_-z4O"
      }
    },
    {
      "cell_type": "code",
      "source": [
        "import numpy as np\n",
        "\n",
        "A = np.array([[1, 2, 3],\n",
        "              [4, 5, 6],\n",
        "              [7, 8, 9]])\n",
        "\n",
        "I = np.identity(3)\n",
        "result = A @ I\n",
        "print(result)"
      ],
      "metadata": {
        "colab": {
          "base_uri": "https://localhost:8080/"
        },
        "id": "rKUQvMqF-zVF",
        "outputId": "e7d10259-1fa8-4736-c6e9-c7ea2ca6c15c"
      },
      "execution_count": null,
      "outputs": [
        {
          "output_type": "stream",
          "name": "stdout",
          "text": [
            "[[1. 2. 3.]\n",
            " [4. 5. 6.]\n",
            " [7. 8. 9.]]\n"
          ]
        }
      ]
    },
    {
      "cell_type": "markdown",
      "source": [
        "# LINEAR TRANSFORMATIONS AND VECTOR SPACES"
      ],
      "metadata": {
        "id": "DC1_rzap4VWC"
      }
    },
    {
      "cell_type": "markdown",
      "source": [
        "## Linear Combination"
      ],
      "metadata": {
        "id": "PKEBAUkC4cku"
      }
    },
    {
      "cell_type": "markdown",
      "source": [
        "Linear combination of a set of vectors\n",
        "\n",
        "We are given this system of equations:\n",
        "\n",
        "$$ 𝑠 - 𝑡 = 2 $$\n",
        "$$ 𝑠 + 2𝑡 = 3 $$\n",
        "\n",
        "This can be written as a matrix equation:\n",
        "\n",
        "$$ \\begin{bmatrix} 1 \\ -1 \\\\ 1 \\ \\ \\ \\ \\  2 \\end{bmatrix} \\begin{bmatrix} s \\\\ t \\end{bmatrix} = \\begin{bmatrix} 2 \\\\ 3 \\end{bmatrix} $$\n",
        "\n",
        "This equation means we want to find the values of 𝑠 and 𝑡  that make this true.\n",
        "This is also a linear combination of two vectors. We are combining the vectors:\n",
        "\n",
        "$$ \\begin{bmatrix} 1 \\\\ 1\\end{bmatrix} and \\begin{bmatrix} -1 \\\\ 2 \\end{bmatrix} $$\n",
        "\n",
        "\n",
        "We multiply each vector by a number (𝑠 and 𝑡) and then add them together to reach the target vector:\n",
        "\n",
        "$$ 𝑠 \\begin{bmatrix} 1 \\\\ 1 \\end{bmatrix} + 𝑡 \\begin{bmatrix} -1 \\\\ 2 \\end{bmatrix} = \\begin{bmatrix} 2 \\\\ 3 \\end{bmatrix} $$\n",
        "\n",
        "Now, we solve the system to find the values of 𝑠 and 𝑡 that make the equation true.\n",
        "\n",
        "The solution gives us:\n",
        "\n",
        "$$ \\begin{bmatrix} 1 \\ \\ \\ 0  \\ \\ \\frac{7}{3} \\\\ 0 \\ \\ \\ 1 \\ \\ \\frac{7}{3}\\end{bmatrix} $$\n",
        "\n",
        "This tells us that the scalars:\n",
        "\n",
        "$$ 𝑠 = \\frac{7}{3} $$\n",
        "$$ 𝑡 = \\frac{1}{3} $$\n",
        "\n",
        "can solve the equation.\n",
        "\n",
        "So, the vector $$ \\begin{bmatrix} 2 \\\\ 3 \\end{bmatrix}$$\n",
        "is a linear combination of the two vectors $$ \\begin{bmatrix} 1 \\\\ 1 \\end{bmatrix} and \\begin{bmatrix} -1 \\\\ 2 \\end{bmatrix} $$.\n",
        "that can be created using the scalars 𝑠 and 𝑡"
      ],
      "metadata": {
        "id": "7SG83hSf6g-Z"
      }
    },
    {
      "cell_type": "code",
      "source": [
        "import sympy as sp\n",
        "\n",
        "sp.Matrix(2,3, [1, -1, 2, 1, 2, 3]).rref()"
      ],
      "metadata": {
        "colab": {
          "base_uri": "https://localhost:8080/"
        },
        "id": "9T5nvluq4omW",
        "outputId": "43d41e30-e124-4d50-9314-475b4d3f596f"
      },
      "execution_count": null,
      "outputs": [
        {
          "output_type": "execute_result",
          "data": {
            "text/plain": [
              "(Matrix([\n",
              " [1, 0, 7/3],\n",
              " [0, 1, 1/3]]),\n",
              " (0, 1))"
            ]
          },
          "metadata": {},
          "execution_count": 14
        }
      ]
    },
    {
      "cell_type": "markdown",
      "source": [
        "## Determinant and Inverse"
      ],
      "metadata": {
        "id": "oe3eO6A24gRr"
      }
    },
    {
      "cell_type": "markdown",
      "source": [
        "### Determinant\n",
        "A **determinant** is a number that we can calculate from a **square matrix** (like 2x2 or 3x3).\n",
        "It tells us important things about the matrix, like:\n",
        "* Can the matrix be inverted?\n",
        "* Does the matrix change the size or shape of space (like stretching or flipping)?\n",
        "\n",
        "For a 2x2 matrix:\n",
        "\n",
        "$$ A = \\begin{bmatrix} a \\ \\ \\ b \\\\ c \\ \\ \\ d \\end{bmatrix} $$\n",
        "\n",
        "The **determinant** is:\n",
        "\n",
        "$$ det(A) = ad - bc $$\n"
      ],
      "metadata": {
        "id": "q7A_DT69PXis"
      }
    },
    {
      "cell_type": "markdown",
      "source": [
        "### Inverse\n",
        "The **inverse of a matrix** is like the opposite of the matrix.\n",
        "\n",
        "If you multiply a matrix by its inverse, you get the identity matrix:\n",
        "\n",
        "$$ A · A^{-1} = I $$\n",
        "\n",
        "The identity matrix is like the number 1 in multiplication — it doesn't change anything.\n",
        "\n",
        "But not every matrix has an inverse.\n",
        "You can only find an inverse if the determinant is not 0.\n",
        "\n",
        "So, if $$ det(A) = 0 $$ then **no inverse** exists."
      ],
      "metadata": {
        "id": "edAZIHhpQUAs"
      }
    },
    {
      "cell_type": "code",
      "source": [
        "I = sp.Matrix(3,3 , [1,2,3,2,1,0,1,0,1])\n",
        "I"
      ],
      "metadata": {
        "colab": {
          "base_uri": "https://localhost:8080/",
          "height": 78
        },
        "id": "e-i6czKxFdmR",
        "outputId": "27f43b86-4291-4a57-aa71-bf9d66a84794"
      },
      "execution_count": null,
      "outputs": [
        {
          "output_type": "execute_result",
          "data": {
            "text/plain": [
              "Matrix([\n",
              "[1, 2, 3],\n",
              "[2, 1, 0],\n",
              "[1, 0, 1]])"
            ],
            "text/latex": "$\\displaystyle \\left[\\begin{matrix}1 & 2 & 3\\\\2 & 1 & 0\\\\1 & 0 & 1\\end{matrix}\\right]$"
          },
          "metadata": {},
          "execution_count": 15
        }
      ]
    },
    {
      "cell_type": "code",
      "source": [
        "I.det()"
      ],
      "metadata": {
        "colab": {
          "base_uri": "https://localhost:8080/",
          "height": 37
        },
        "id": "6cSPCGXBUiW5",
        "outputId": "6539415a-1459-4f35-98f7-9f3e54252209"
      },
      "execution_count": null,
      "outputs": [
        {
          "output_type": "execute_result",
          "data": {
            "text/plain": [
              "-6"
            ],
            "text/latex": "$\\displaystyle -6$"
          },
          "metadata": {},
          "execution_count": 16
        }
      ]
    },
    {
      "cell_type": "code",
      "source": [
        "I.inv()"
      ],
      "metadata": {
        "colab": {
          "base_uri": "https://localhost:8080/",
          "height": 78
        },
        "id": "jq5gJtqJUbs3",
        "outputId": "cefad12d-3723-4de4-9bcf-0707edd796ae"
      },
      "execution_count": null,
      "outputs": [
        {
          "output_type": "execute_result",
          "data": {
            "text/plain": [
              "Matrix([\n",
              "[-1/6,  1/3, 1/2],\n",
              "[ 1/3,  1/3,  -1],\n",
              "[ 1/6, -1/3, 1/2]])"
            ],
            "text/latex": "$\\displaystyle \\left[\\begin{matrix}- \\frac{1}{6} & \\frac{1}{3} & \\frac{1}{2}\\\\\\frac{1}{3} & \\frac{1}{3} & -1\\\\\\frac{1}{6} & - \\frac{1}{3} & \\frac{1}{2}\\end{matrix}\\right]$"
          },
          "metadata": {},
          "execution_count": 17
        }
      ]
    },
    {
      "cell_type": "markdown",
      "source": [
        "## Linear Dependence and Independence"
      ],
      "metadata": {
        "id": "7pJccPTW4zab"
      }
    },
    {
      "cell_type": "code",
      "source": [],
      "metadata": {
        "id": "qY2bMSPT40f6"
      },
      "execution_count": null,
      "outputs": []
    },
    {
      "cell_type": "markdown",
      "source": [
        "## Linear Dependence: Determinant and Inverse\n"
      ],
      "metadata": {
        "id": "8EouxUFJ41Z_"
      }
    },
    {
      "cell_type": "markdown",
      "source": [
        "Let’s say we have three vectors:\n",
        "\n",
        "$$ \\vec{u},\\ \\vec{v},\\ \\vec{w} $$\n",
        "\n",
        "If we try to make a linear combination of them that equals the zero vector:\n",
        "\n",
        "$$ x\\vec{u} + y\\vec{v} + z\\vec{w} = \\vec{0}$$\n",
        "\n",
        "Then we want to check:\n",
        "Is the only solution\n",
        "$$ x=0,y=0,z=0? $$\n",
        "\n",
        "If **yes**, then the vectors are **linearly independent**.\n",
        "If no, they are linearly dependent (that means one vector can be made using the others).\n",
        "\n",
        "Example with a Matrix\n",
        "Let’s say we form a 3×3 matrix with the vectors as columns:\n",
        "$$ A = \\begin{bmatrix} 1 \\ \\ \\ \\  0 \\ \\ \\ \\ 4 \\\\ 1 \\ \\ \\ \\ 2 \\ \\ \\ \\  0 \\\\ 4 \\ \\ \\ \\ 3 \\ \\ \\ \\ 3 \\end{bmatrix} $$\n",
        "\n",
        "Now, we calculate the determinant of A.\n",
        "\n",
        "Let's say the determinant is:\n",
        "\n",
        "$$ det(A) = -14 $$\n",
        "\n",
        "This number is not zero, which tells us two important things:\n",
        "\n",
        "1. The matrix is invertible : If the determinant is not zero, then the matrix has an inverse.\n",
        "2. Since the matrix is inverisble, it means that it's possible to multiply the matrix by it inverse (having a identity matrix).\n",
        "3. The vectors are linearly independent : Because there’s only one solution to the equation\n",
        "\n",
        "$$ x = y = z = 0 $$"
      ],
      "metadata": {
        "id": "sP1OuvU4e-oZ"
      }
    },
    {
      "cell_type": "code",
      "source": [
        "I = sp.Matrix(3,3 , [1,0,4,1,2,0,4,3,3])\n",
        "I"
      ],
      "metadata": {
        "colab": {
          "base_uri": "https://localhost:8080/",
          "height": 78
        },
        "id": "nCRaLYGp45XZ",
        "outputId": "e530a663-e8f4-4c75-9dd8-8dc1c2d12e8c"
      },
      "execution_count": null,
      "outputs": [
        {
          "output_type": "execute_result",
          "data": {
            "text/plain": [
              "Matrix([\n",
              "[1, 0, 4],\n",
              "[1, 2, 0],\n",
              "[4, 3, 3]])"
            ],
            "text/latex": "$\\displaystyle \\left[\\begin{matrix}1 & 0 & 4\\\\1 & 2 & 0\\\\4 & 3 & 3\\end{matrix}\\right]$"
          },
          "metadata": {},
          "execution_count": 18
        }
      ]
    },
    {
      "cell_type": "code",
      "source": [
        "I.det()"
      ],
      "metadata": {
        "colab": {
          "base_uri": "https://localhost:8080/",
          "height": 37
        },
        "id": "mKB9x_cQiBG-",
        "outputId": "ea56b712-f071-453c-9367-89a81c0d5fc7"
      },
      "execution_count": null,
      "outputs": [
        {
          "output_type": "execute_result",
          "data": {
            "text/plain": [
              "-14"
            ],
            "text/latex": "$\\displaystyle -14$"
          },
          "metadata": {},
          "execution_count": 19
        }
      ]
    },
    {
      "cell_type": "markdown",
      "source": [
        "# EIGENVALUE AND EIGENVECTOR"
      ],
      "metadata": {
        "id": "4zAjummuLkqK"
      }
    },
    {
      "cell_type": "markdown",
      "source": [
        "When we multiply a vector by a matrix, the vector usually changes its direction, length, or both.\n",
        "\n",
        "But sometimes, the direction stays the same — only the length changes.\n",
        "In this special case, multiplying the vector by the matrix is the same as multiplying the vector by a number.\n",
        "\n",
        "This is the idea of eigenvectors and eigenvalues.\n",
        "\n",
        "## Example\n",
        "Look at this matrix and vector:\n",
        "\n",
        "$$ \\begin{bmatrix} 2 \\ \\ \\ 0 \\\\ 0 \\ \\ \\ 2\\end{bmatrix} · \\begin{bmatrix} 1 \\\\0 \\end{bmatrix} = \\begin{bmatrix} 2 \\\\ 0 \\end{bmatrix}$$\n",
        "\n",
        "This is the same as multiplying the vector by the number 2:\n",
        "\n",
        "$$ 2 · \\begin{bmatrix} 1 \\\\0 \\end{bmatrix} = \\begin{bmatrix} 2 \\\\ 0 \\end{bmatrix}$$\n",
        "\n",
        "So the vector does not change direction — only its size (length) is bigger.\n",
        "\n",
        "In this case:\n",
        "\n",
        "* The vector [1, 0] is an **eigenvector**\n",
        "* The number 2 is the **eigenvalue**\n",
        "\n",
        "## In Python\n",
        "You can check this with Python:"
      ],
      "metadata": {
        "id": "1r_1bFHqLmas"
      }
    },
    {
      "cell_type": "code",
      "source": [
        "import numpy as np\n",
        "\n",
        "A = np.array([[2, 0],\n",
        "              [0, 2]])\n",
        "\n",
        "v = np.array([1, 0])\n",
        "\n",
        "matrix_result = A @ v\n",
        "scalar_result = 2 * v\n",
        "\n",
        "print(\"Matrix × Vector:\", matrix_result)\n",
        "print(\"Scalar × Vector:\", scalar_result)"
      ],
      "metadata": {
        "colab": {
          "base_uri": "https://localhost:8080/"
        },
        "id": "tf1TGFe_Ll8T",
        "outputId": "1b64a1a2-5c63-4c7d-8d98-823cf7aa8635"
      },
      "execution_count": null,
      "outputs": [
        {
          "output_type": "stream",
          "name": "stdout",
          "text": [
            "Matrix × Vector: [2 0]\n",
            "Scalar × Vector: [2 0]\n"
          ]
        }
      ]
    },
    {
      "cell_type": "markdown",
      "source": [
        "# MATRIX TRANSFORMATION"
      ],
      "metadata": {
        "id": "EHW6PnpUL5lw"
      }
    },
    {
      "cell_type": "markdown",
      "source": [
        "A matrix transformation is a way to change a vector using a matrix.\n",
        "We take a vector with values\n",
        "(𝑥,𝑦), and we apply a rule to get a new vector (𝑢,𝑣)\n",
        "\n",
        "Let’s say we use the following rules:\n",
        "\n",
        "$$ u = -x + 3y $$\n",
        "$$ v = 2x - 5y $$\n",
        "\n",
        "We can write this as a matrix multiplication:\n",
        "\n",
        "$$ \\begin{bmatrix}u \\\\v \\end{bmatrix} = \\begin{bmatrix} -1 \\ \\ \\ 3 \\\\2 \\ -5\\end{bmatrix} \\begin{bmatrix} x \\\\ y \\end{bmatrix}$$\n",
        "\n",
        "This means:\n",
        "→ The matrix transforms the input vector (𝑥,𝑦) into the output vector (𝑢,𝑣).\n",
        "\n",
        "We call the matrix the transformation matrix, and the operation is a linear transformation.\n",
        "\n",
        "## Matrix Form of Linear System\n",
        "\n",
        "Let’s now look at a more complex example with 4 variables:\n",
        "\n",
        "We define 3 equations:\n",
        "\n",
        "$$ w1 = 2x1 - 3x2 +  x3 - 5x4 \\\\ w2=4x1 + x2 -2x3 + x4 \\\\ w3 = 5x1 - x2 + 4x3 $$\n",
        "\n",
        "We can write this as a matrix transformation too.\n",
        "Let’s build matrix A with the numbers from the equations:\n",
        "\n",
        "$$ \\begin{bmatrix}w_1 \\\\w_2\\\\w_3 \\end{bmatrix} = \\begin{bmatrix} 2 \\ \\ \\ -3 \\  \\ \\ \\ \\ 1 \\ \\ -5 \\\\ 4 \\ \\ \\ \\ \\ \\  \\ 1 \\ \\ \\ \\ -2 \\ \\ \\ \\ \\ 1 \\\\ 5 \\ \\ \\ -1 \\ \\ \\ \\ \\ \\ 4 \\ \\ \\ \\ \\ \\ 0\\end{bmatrix} \\begin{bmatrix} x_1 \\\\ x_2 \\\\ x_3 \\\\ x_4 \\end{bmatrix}$$\n",
        "\n",
        "Meaning\n",
        "This means the vector w is the result of applying matrix A to vector x:\n",
        "\n",
        "$$ 𝑤 = 𝐴 ⋅ 𝑥 $$\n",
        "\n",
        "So, matrix A transforms the input vector x into output vector w.\n",
        "We call this a linear transformation too, and it is written as:\n",
        "\n",
        "$$ T_A(x) = w $$\n",
        "\n",
        "Where:\n",
        "* 𝛵_A is the transformation using matrix 𝐴\n",
        "* 𝑥 is the input vector\n",
        "* 𝑤 is the result (output vector)"
      ],
      "metadata": {
        "id": "mPERGdN9MDGv"
      }
    },
    {
      "cell_type": "code",
      "source": [
        "import numpy as np\n",
        "# Transformation matrix A (3x4)\n",
        "A = np.array([[2, -3, 1, -5],\n",
        "              [4,  1, -2, 1],\n",
        "              [5, -1, 4, 0]])\n",
        "\n",
        "# Input vector x (4D)\n",
        "x = np.array([1, 0, 2, -1])  # example values\n",
        "\n",
        "# Resulting vector w (3D)\n",
        "w = A @ x\n",
        "\n",
        "print(\"Input vector (x):\", x)\n",
        "print(\"Transformed vector (w):\", w)\n"
      ],
      "metadata": {
        "colab": {
          "base_uri": "https://localhost:8080/"
        },
        "id": "Qc3T437WL7wd",
        "outputId": "265f9fed-c007-45b8-e7de-0ef58bc36698"
      },
      "execution_count": null,
      "outputs": [
        {
          "output_type": "stream",
          "name": "stdout",
          "text": [
            "Input vector (x): [ 1  0  2 -1]\n",
            "Transformed vector (w): [ 9 -1 13]\n"
          ]
        }
      ]
    },
    {
      "cell_type": "markdown",
      "source": [
        "# THE COSINE RULE (for Vectors)\n",
        "A useful thing about the dot product is that it helps us find the angle between two vectors.\n",
        "\n",
        "The formula is:\n",
        "\n",
        "$$ \\vec{v} · \\vec{s} = ||\\vec{v}||⋅||\\vec{s}||· cos(ϴ) $$\n",
        "\n",
        "We can rearrange it to find the cosine of the angle:\n",
        "\n",
        "$$ cos(ϴ) = \\frac{\\vec{v} · \\vec{s}} {\\|\\vec{v}\\| \\|\\vec{s}\\|} $$\n",
        "\n",
        "\n",
        "## Example\n",
        "Let’s use these vectors:\n",
        "* 𝑣 = [2, 1]\n",
        "* 𝑠 = [−3,2]\n",
        "\n",
        "We first:\n",
        "* Find the dot product:\n",
        "$$ 2⋅(−3)+1⋅2=−6+2=−4 $$\n",
        "* Find the magnitudes:\n",
        "$$ \\|\\vec{v}\\| = \\sqrt{{2^2 + 1^2}} = \\sqrt{5} ≈ 2.236  $$\n",
        "$$ \\|\\vec{s}\\| = \\sqrt{{(-3)^2 + 2^2}} = \\sqrt{13} ≈ 3.606  $$\n",
        "* Now plug into the formula:\n",
        "$$ \\cos(ϴ) = \\frac{-4}{2.236 \\ 𝗑 \\ 3.606} ≈ \\frac{-4}{8.062} ≈ -0.4961 $$\n",
        "* Finally, we use the inverse cosine to get the angle:\n",
        "$$ ϴ ≈ \\cos^{-1}(-0.4961) ≈ 119.74 ^o $$\n",
        "\n",
        "### In Python"
      ],
      "metadata": {
        "id": "KKxkI2v74-xQ"
      }
    },
    {
      "cell_type": "code",
      "source": [
        "import numpy as np\n",
        "\n",
        "v = np.array([2, 1])\n",
        "s = np.array([-3, 2])\n",
        "\n",
        "dot = np.dot(v, s)\n",
        "norm_v = np.linalg.norm(v)\n",
        "norm_s = np.linalg.norm(s)\n",
        "\n",
        "cos_theta = dot / (norm_v * norm_s)\n",
        "theta_rad = np.arccos(cos_theta)\n",
        "theta_deg = np.degrees(theta_rad)\n",
        "\n",
        "print(\"Cos(θ):\", cos_theta)\n",
        "print(\"Angle in degrees:\", theta_deg)\n"
      ],
      "metadata": {
        "colab": {
          "base_uri": "https://localhost:8080/"
        },
        "id": "pijH93-4QdHI",
        "outputId": "005a06c8-dd17-4505-e470-7e6564bdaa82"
      },
      "execution_count": null,
      "outputs": [
        {
          "output_type": "stream",
          "name": "stdout",
          "text": [
            "Cos(θ): -0.49613893835683387\n",
            "Angle in degrees: 119.74488129694222\n"
          ]
        }
      ]
    },
    {
      "cell_type": "markdown",
      "source": [],
      "metadata": {
        "id": "1cVOQqBPop6p"
      }
    },
    {
      "cell_type": "markdown",
      "source": [],
      "metadata": {
        "id": "68qVh7yEowWy"
      }
    },
    {
      "cell_type": "code",
      "source": [],
      "metadata": {
        "id": "8WrWdF-8opOB"
      },
      "execution_count": null,
      "outputs": []
    },
    {
      "cell_type": "markdown",
      "source": [
        "# NLTK and LSTM"
      ],
      "metadata": {
        "id": "NhP2yTbQ7sG8"
      }
    },
    {
      "cell_type": "code",
      "source": [
        "import re\n",
        "import pandas as pd\n",
        "from nltk.corpus import stopwords\n",
        "import nltk\n",
        "from gensim.models import Word2Vec\n",
        "\n",
        "nltk.download('stopwords')\n",
        "stop_words = set(stopwords.words('english'))"
      ],
      "metadata": {
        "colab": {
          "base_uri": "https://localhost:8080/"
        },
        "id": "YDu9TK44-LXf",
        "outputId": "7a0eb930-7445-4fe6-fc2d-fea55aee5747"
      },
      "execution_count": null,
      "outputs": [
        {
          "output_type": "stream",
          "name": "stderr",
          "text": [
            "[nltk_data] Downloading package stopwords to /root/nltk_data...\n",
            "[nltk_data]   Package stopwords is already up-to-date!\n"
          ]
        }
      ]
    },
    {
      "cell_type": "code",
      "source": [
        "def preprocess(text):\n",
        "    text = re.sub(r'[^\\w\\s]', '', text.lower())\n",
        "    return [word for word in text.split() if word not in stop_words]\n",
        "\n",
        "data = {\n",
        "    \"frase\": [\n",
        "        \"The customer reported a fraud on the card\",\n",
        "        \"There was an attempt of financial scam\",\n",
        "        \"The system detected suspicious behavior\",\n",
        "        \"The user detected a fraud in his bank account\"\n",
        "        \"The transaction was declined\",\n",
        "        \"Blocked due to unusual activity\",\n",
        "        \"The dog played in the park\",\n",
        "        \"Children were playing outside\",\n",
        "        \"She bought a new pair of shoes\",\n",
        "        \"The sun was shining brightly\",\n",
        "        \"The movie was very entertaining\"\n",
        "    ]\n",
        "}\n",
        "\n",
        "df = pd.DataFrame(data)\n",
        "df[\"tokens\"] = df[\"frase\"].apply(preprocess)\n",
        "\n",
        "print(\"Preprocessed:\", df[\"tokens\"].tolist())\n",
        "\n",
        "model = Word2Vec(\n",
        "    sentences=df[\"tokens\"],\n",
        "    vector_size=155,\n",
        "    window=5,\n",
        "    min_count=1,\n",
        "    sg=1)\n",
        "\n",
        "print(\"Vocab:\", model.wv.index_to_key)"
      ],
      "metadata": {
        "colab": {
          "base_uri": "https://localhost:8080/"
        },
        "id": "OmVe4j2183-H",
        "outputId": "e0dbfcd7-761a-4e46-ab4a-bd14a128d812"
      },
      "execution_count": null,
      "outputs": [
        {
          "output_type": "stream",
          "name": "stdout",
          "text": [
            "Preprocessed: [['customer', 'reported', 'fraud', 'card'], ['attempt', 'financial', 'scam'], ['system', 'detected', 'suspicious', 'behavior'], ['user', 'detected', 'fraud', 'bank', 'accountthe', 'transaction', 'declined'], ['blocked', 'due', 'unusual', 'activity'], ['dog', 'played', 'park'], ['children', 'playing', 'outside'], ['bought', 'new', 'pair', 'shoes'], ['sun', 'shining', 'brightly'], ['movie', 'entertaining']]\n",
            "Vocab: ['detected', 'fraud', 'entertaining', 'transaction', 'accountthe', 'bank', 'user', 'behavior', 'suspicious', 'system', 'blocked', 'scam', 'financial', 'attempt', 'card', 'reported', 'declined', 'due', 'movie', 'bought', 'brightly', 'shining', 'sun', 'shoes', 'pair', 'new', 'outside', 'unusual', 'playing', 'children', 'park', 'played', 'dog', 'activity', 'customer']\n"
          ]
        }
      ]
    },
    {
      "cell_type": "code",
      "source": [
        "import numpy as np\n",
        "from sklearn.metrics.pairwise import cosine_similarity\n",
        "\n",
        "def sentence_vector(sentence, model):\n",
        "    tokens = preprocess(sentence)  # usa seu preprocess\n",
        "    word_vecs = [model.wv[word] for word in tokens if word in model.wv]\n",
        "    if not word_vecs:\n",
        "        return np.zeros(model.vector_size)\n",
        "    return np.mean(word_vecs, axis=0)\n",
        "\n",
        "def sentence_similarity(sent1, sent2, model):\n",
        "    vec1 = sentence_vector(sent1, model)\n",
        "    vec2 = sentence_vector(sent2, model)\n",
        "    return cosine_similarity([vec1], [vec2])[0][0]\n"
      ],
      "metadata": {
        "id": "BPVTs3kfEBYs"
      },
      "execution_count": null,
      "outputs": []
    },
    {
      "cell_type": "markdown",
      "source": [],
      "metadata": {
        "id": "jyMKNtuP_Zyb"
      }
    },
    {
      "cell_type": "code",
      "source": [
        "frase1 = \"The client tried to commit a fraud in the payment system\"\n",
        "frase2 = \"There was a fraud attempt in the digital bank\"\n",
        "frase3 = \"The dog was playing in the park with the children\"\n",
        "\n",
        "print(\"Sim 1-2:\", sentence_similarity(frase1, frase2, model))  # High similarity\n",
        "print(\"Sim 1-3:\", sentence_similarity(frase1, frase3, model))  # Low similarity\n",
        "print(\"Sim 2-3:\", sentence_similarity(frase2, frase3, model))  # Low similarity"
      ],
      "metadata": {
        "colab": {
          "base_uri": "https://localhost:8080/"
        },
        "id": "zEIh5okBH7BW",
        "outputId": "249cbdc0-41ac-4558-8ca6-bd84ae2e139a"
      },
      "execution_count": null,
      "outputs": [
        {
          "output_type": "stream",
          "name": "stdout",
          "text": [
            "Sim 1-2: 0.3730439\n",
            "Sim 1-3: 0.107193686\n",
            "Sim 2-3: 0.16535042\n"
          ]
        }
      ]
    },
    {
      "cell_type": "code",
      "source": [
        "print(list(model.wv.index_to_key))  # list of all words mapped\n",
        "print(model.wv.most_similar(\"fraud\"))"
      ],
      "metadata": {
        "colab": {
          "base_uri": "https://localhost:8080/"
        },
        "id": "LPMaoKWWIsA9",
        "outputId": "2ced4527-98c0-45d3-8b17-36b246c26820"
      },
      "execution_count": null,
      "outputs": [
        {
          "output_type": "stream",
          "name": "stdout",
          "text": [
            "['detected', 'fraud', 'entertaining', 'transaction', 'accountthe', 'bank', 'user', 'behavior', 'suspicious', 'system', 'blocked', 'scam', 'financial', 'attempt', 'card', 'reported', 'declined', 'due', 'movie', 'bought', 'brightly', 'shining', 'sun', 'shoes', 'pair', 'new', 'outside', 'unusual', 'playing', 'children', 'park', 'played', 'dog', 'activity', 'customer']\n",
            "[('bank', 0.20596814155578613), ('suspicious', 0.17647996544837952), ('transaction', 0.16361911594867706), ('park', 0.16141924262046814), ('children', 0.11767584085464478), ('financial', 0.11407862603664398), ('due', 0.10977666825056076), ('entertaining', 0.09789809584617615), ('outside', 0.09429081529378891), ('new', 0.07256312668323517)]\n"
          ]
        }
      ]
    },
    {
      "cell_type": "code",
      "source": [
        "import matplotlib.pyplot as plt\n",
        "\n",
        "results = []\n",
        "for size in range(10,300,10):\n",
        "    model = Word2Vec(df[\"tokens\"], vector_size=size, window=5, min_count=1, sg=1)\n",
        "    sim = sentence_similarity(frase1, frase2, model)\n",
        "    results.append((size, sim))\n",
        "\n",
        "sizes, sims = zip(*results)\n",
        "plt.plot(sizes, sims, marker='o')\n",
        "plt.title(\"Sentence similarity vs. Vector size\")\n",
        "plt.xlabel(\"Vector Size\")\n",
        "plt.ylabel(\"Similarity\")\n",
        "plt.grid(True)\n",
        "plt.show()\n"
      ],
      "metadata": {
        "colab": {
          "base_uri": "https://localhost:8080/",
          "height": 472
        },
        "id": "3KkH1oyQJ2x7",
        "outputId": "eb79ee1a-da1f-41ca-ae91-bccc10e6e5c9"
      },
      "execution_count": null,
      "outputs": [
        {
          "output_type": "display_data",
          "data": {
            "text/plain": [
              "<Figure size 640x480 with 1 Axes>"
            ],
            "image/png": "[encoded data removed]"
          },
          "metadata": {}
        }
      ]
    },
    {
      "cell_type": "markdown",
      "source": [
        "## Plotting"
      ],
      "metadata": {
        "id": "esjWoMJaO_vs"
      }
    },
    {
      "cell_type": "code",
      "source": [
        "import numpy as np\n",
        "import matplotlib.pyplot as plt\n",
        "from sklearn.decomposition import PCA"
      ],
      "metadata": {
        "id": "WAtV90ZuPNHA"
      },
      "execution_count": null,
      "outputs": []
    },
    {
      "cell_type": "code",
      "source": [
        "# Frases comparadas\n",
        "frase1 = \"The client tried to commit a fraud in the financial system\"\n",
        "frase2 = \"There was a fraud attempt in the digital bank\"\n",
        "\n",
        "tokens1 = preprocess(frase1)\n",
        "tokens2 = preprocess(frase2)\n",
        "\n",
        "# Combinar tokens únicos das duas frases\n",
        "all_tokens = list(set(tokens1 + tokens2))\n",
        "\n",
        "# Pegar vetores apenas de palavras presentes no modelo\n",
        "words = [w for w in all_tokens if w in model.wv]\n",
        "vectors = np.array([model.wv[w] for w in words])\n",
        "\n",
        "pca = PCA(n_components=2)\n",
        "points_2d = pca.fit_transform(vectors)\n",
        "\n",
        "\n",
        "# Plot arrows\n",
        "plt.figure(figsize=(10, 6))\n",
        "for i, word in enumerate(words):\n",
        "    x, y = points_2d[i]\n",
        "    color = 'blue' if word in tokens1 else 'green'\n",
        "    plt.scatter(x, y, c=color)\n",
        "    plt.text(x - 0.01, y - 0.01, word, fontsize=12)\n",
        "    plt.arrow(0, 0, x, y, head_width=0.005, head_length=0.005, fc=color, ec=color)\n",
        "\n",
        "plt.axhline(0, color='grey', lw=1, linestyle='--')\n",
        "plt.axvline(0, color='grey', lw=1, linestyle='--')\n",
        "plt.title(\"Word Vectors with Arrows from Origin (Frase 1 = blue, Frase 2 = green)\")\n",
        "plt.xlabel(\"PCA 1\")\n",
        "plt.ylabel(\"PCA 2\")\n",
        "plt.grid(True)\n",
        "plt.show()"
      ],
      "metadata": {
        "colab": {
          "base_uri": "https://localhost:8080/",
          "height": 564
        },
        "id": "krN8uaL6N7q3",
        "outputId": "300dd594-a0cd-4af1-c804-f58a38013a80"
      },
      "execution_count": null,
      "outputs": [
        {
          "output_type": "display_data",
          "data": {
            "text/plain": [
              "<Figure size 1000x600 with 1 Axes>"
            ],
            "image/png": "[encoded data removed]"
          },
          "metadata": {}
        }
      ]
    },
    {
      "cell_type": "code",
      "source": [
        "print(model.wv.most_similar(\"fraud\"))"
      ],
      "metadata": {
        "colab": {
          "base_uri": "https://localhost:8080/"
        },
        "id": "YvKAnCCbPN9o",
        "outputId": "bd8f4ced-59fa-40bb-eba7-db21b35b8edd"
      },
      "execution_count": null,
      "outputs": [
        {
          "output_type": "stream",
          "name": "stdout",
          "text": [
            "[('suspicious', 0.06716764718294144), ('user', 0.0660843774676323), ('pair', 0.05242154374718666), ('unusual', 0.05095326527953148), ('reported', 0.04874585196375847), ('shoes', 0.045620180666446686), ('entertaining', 0.04228048399090767), ('activity', 0.03541497513651848), ('outside', 0.03456679731607437), ('playing', 0.03138822317123413)]\n"
          ]
        }
      ]
    },
    {
      "cell_type": "code",
      "source": [
        "print(model.wv.similarity(\"fraud\", \"suspicious\"))\n",
        "print(model.wv.similarity(\"fraud\", \"system\"))"
      ],
      "metadata": {
        "colab": {
          "base_uri": "https://localhost:8080/"
        },
        "id": "FtU5bqgIh51F",
        "outputId": "94a13f28-1dc9-48e6-d62c-737e0e29e906"
      },
      "execution_count": null,
      "outputs": [
        {
          "output_type": "stream",
          "name": "stdout",
          "text": [
            "0.06716765\n",
            "0.00037323873\n"
          ]
        }
      ]
    },
    {
      "cell_type": "code",
      "source": [
        "model.wv.get_vector('fraud')"
      ],
      "metadata": {
        "colab": {
          "base_uri": "https://localhost:8080/"
        },
        "id": "0AP0srvhct5I",
        "outputId": "cb4fcdc3-d87f-427c-e279-4c2106211016"
      },
      "execution_count": null,
      "outputs": [
        {
          "output_type": "execute_result",
          "data": {
            "text/plain": [
              "array([-1.84901655e-04,  8.15228195e-05,  1.75977265e-03,  3.10664997e-03,\n",
              "       -3.20791733e-03, -2.45407573e-03,  2.22720159e-03,  3.09413113e-03,\n",
              "       -1.72945356e-03, -1.29771978e-03,  2.54499889e-03, -5.28783130e-04,\n",
              "       -1.56434427e-03,  2.26001837e-03, -1.67591730e-03, -6.26213499e-04,\n",
              "        9.91919078e-04,  3.42027022e-04, -2.85696564e-03, -3.25820805e-03,\n",
              "        2.52129929e-03,  1.74836535e-03,  2.33023916e-03,  2.63058377e-04,\n",
              "        2.18995730e-03, -1.17426424e-03, -3.26348993e-04,  1.98916090e-03,\n",
              "       -2.59366399e-03, -1.35727576e-03, -2.59019644e-03, -3.20700317e-04,\n",
              "        3.28900828e-03, -2.52385437e-03, -8.04747338e-04, -6.68191700e-04,\n",
              "        2.78532435e-03, -2.04513338e-03,  1.55709913e-05, -1.63921982e-03,\n",
              "       -3.31156887e-03,  1.72665424e-03, -3.02054337e-03, -1.51442480e-03,\n",
              "       -1.20990435e-05, -1.02126389e-04, -2.64180149e-03,  3.31542362e-03,\n",
              "        1.71794859e-03,  3.18383845e-03, -2.81308079e-03,  1.55027944e-03,\n",
              "       -1.42658036e-03,  2.84321170e-04,  2.93055503e-03, -1.53867959e-03,\n",
              "        1.55775342e-03, -2.34032795e-03, -1.22362084e-03,  3.24086100e-03,\n",
              "       -5.44017938e-04,  1.10814850e-04, -1.42780726e-03, -2.64920387e-03,\n",
              "       -5.20007103e-04,  8.51651945e-04, -3.06215312e-04,  1.90815493e-03,\n",
              "       -9.45856911e-04,  7.79334572e-04,  1.88130746e-03,  2.87791481e-03,\n",
              "       -5.01292699e-04, -3.17521859e-03,  1.50708947e-03,  1.97167770e-04,\n",
              "        2.56617321e-03, -2.80438515e-04, -9.09802446e-04, -3.01827700e-03,\n",
              "       -2.95367761e-04,  9.74675291e-04,  1.86255772e-03,  2.43195309e-03,\n",
              "       -1.96659169e-03,  6.40970597e-04,  2.09960970e-03, -1.65450387e-03,\n",
              "       -1.07146567e-03,  2.34400877e-03,  5.62578207e-04,  6.54890100e-05,\n",
              "        1.19780435e-03,  7.50969557e-05,  3.31683899e-03,  1.74504064e-03,\n",
              "       -3.07496358e-03, -2.42812722e-03,  3.10850271e-04,  2.20431667e-03,\n",
              "       -2.97230831e-03,  1.26405060e-03,  1.78961584e-03,  1.97997643e-03,\n",
              "        2.57480331e-03, -2.12678569e-03,  3.81242920e-04,  2.08526594e-03,\n",
              "       -9.79330856e-04, -2.12880294e-03, -1.41454628e-04, -2.88584083e-03,\n",
              "       -1.93104357e-03,  2.44984520e-03,  1.15604908e-03,  2.49161199e-03,\n",
              "        2.34490912e-03,  2.59681116e-03, -1.30660692e-03, -1.93727377e-04,\n",
              "        8.09787365e-04, -1.55828218e-03,  2.89267069e-03, -3.39936884e-03,\n",
              "        2.33264035e-03,  1.00496807e-03, -1.70097477e-03,  1.51662168e-03,\n",
              "       -5.99850377e-04,  2.31426605e-03,  3.43615608e-03, -1.50429469e-03,\n",
              "       -2.06662851e-04, -1.96400750e-03,  1.32787286e-03,  9.60905279e-04,\n",
              "        2.37623742e-03,  2.10383139e-03,  3.28914193e-03,  3.19773029e-03,\n",
              "        2.72346777e-03, -2.41016899e-03, -3.15719168e-03, -1.22674217e-04,\n",
              "       -1.06891256e-03,  2.72218324e-03,  2.04777950e-03, -5.32982405e-04,\n",
              "        5.21019159e-04,  6.17249985e-04,  2.69571086e-03, -3.27937840e-03,\n",
              "       -7.08775551e-05,  1.19627267e-03, -3.23779386e-04,  2.89026299e-03,\n",
              "        3.10717151e-03,  2.25397106e-03, -2.45389965e-04,  2.65876483e-03,\n",
              "       -2.94287060e-03,  1.10590097e-03, -1.59931136e-03, -1.75481511e-03,\n",
              "        1.23779825e-03,  1.85183820e-03,  2.67914450e-03, -1.98845286e-03,\n",
              "        2.56323186e-03,  2.28465488e-03, -1.27923698e-03, -3.01573845e-03,\n",
              "        1.87498599e-03,  2.24474049e-03, -2.71566358e-04, -2.31374428e-03,\n",
              "       -2.44342699e-03, -8.61052074e-04,  1.77353795e-03, -1.26387458e-03,\n",
              "       -3.23105231e-03,  1.31956046e-03,  1.68429886e-03, -2.21675145e-03,\n",
              "        4.16738767e-04, -7.15469941e-04,  8.41521978e-06, -3.40810209e-03,\n",
              "        9.28280177e-04, -1.63796253e-03,  3.75048519e-04, -5.43525792e-04,\n",
              "        7.57477537e-04, -2.71778950e-03, -9.36960452e-04,  9.18344187e-04,\n",
              "        1.84368552e-03, -8.24658375e-04, -3.27934115e-03,  1.55374687e-03,\n",
              "        3.26068803e-05,  1.06114778e-03, -2.34919088e-03, -4.74298984e-04,\n",
              "        2.64433981e-03,  2.53324024e-03, -1.26665190e-03,  9.11272189e-04,\n",
              "       -2.86797341e-03,  2.13982700e-03, -1.59907411e-03, -1.09106908e-03,\n",
              "        3.21081304e-03,  3.01168562e-04,  2.58299801e-03, -2.09450768e-03,\n",
              "        1.77948619e-03,  3.42166098e-03, -2.91634072e-03, -1.77092850e-03,\n",
              "       -2.43615010e-03, -1.67677505e-03, -1.30295032e-03, -2.94351438e-03,\n",
              "        2.74331239e-03, -1.67032448e-03,  2.90469965e-03,  1.81467598e-03,\n",
              "       -2.25862861e-03,  1.36478490e-03,  1.88626128e-03, -2.56087189e-03,\n",
              "       -2.55369372e-03, -8.53522157e-04, -2.97438772e-03, -5.45365270e-04,\n",
              "       -1.39112002e-04,  1.13782659e-03,  4.97194414e-04, -3.03937675e-04,\n",
              "       -1.92898116e-03,  5.96674625e-04, -3.09433875e-04,  2.34265323e-03,\n",
              "        1.37020182e-03,  1.56189071e-03,  4.94593289e-04, -9.30980837e-04,\n",
              "       -1.50580180e-03, -3.55893077e-04,  4.95524378e-04, -9.12418182e-04,\n",
              "       -2.43923767e-03, -2.69148289e-03, -3.14544910e-03, -2.04661419e-03,\n",
              "       -6.37045305e-04, -1.49099517e-03, -2.22781254e-03, -1.28183584e-03,\n",
              "        1.47901510e-03, -1.28932472e-03,  2.88902991e-03,  5.28964621e-04,\n",
              "       -2.49734987e-03,  3.25303548e-03,  2.63145380e-03,  1.89423095e-03,\n",
              "       -2.36167060e-03,  2.00781762e-03,  1.38244813e-03,  1.78805355e-03,\n",
              "        1.46755599e-03,  6.68886292e-04, -1.09315699e-03,  2.88064033e-03,\n",
              "        3.31454771e-03,  1.30779389e-03, -9.78275551e-04,  2.45676119e-06,\n",
              "        4.20279335e-04, -2.91666295e-03, -2.83584441e-03, -7.96607856e-05,\n",
              "        4.26646322e-04, -1.98048074e-03, -1.62940356e-03, -2.53312988e-03,\n",
              "        2.87193991e-03,  4.18295895e-05], dtype=float32)"
            ]
          },
          "metadata": {},
          "execution_count": 140
        }
      ]
    },
    {
      "cell_type": "code",
      "source": [],
      "metadata": {
        "id": "h-MRMUITfsEY"
      },
      "execution_count": null,
      "outputs": []
    }
  ]
}